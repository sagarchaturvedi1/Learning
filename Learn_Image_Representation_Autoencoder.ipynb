{
 "cells": [
  {
   "cell_type": "code",
   "execution_count": 32,
   "metadata": {},
   "outputs": [],
   "source": [
    "from keras.layers import Input, Dense\n",
    "from keras.models import Model"
   ]
  },
  {
   "cell_type": "code",
   "execution_count": 33,
   "metadata": {
    "collapsed": true
   },
   "outputs": [],
   "source": [
    "# this is the size of our encoded representations\n",
    "encoding_dim = 32  # 32 floats -> compression of factor 24.5, assuming the input is 784 floats"
   ]
  },
  {
   "cell_type": "code",
   "execution_count": 34,
   "metadata": {
    "collapsed": true
   },
   "outputs": [],
   "source": [
    "# this is our input placeholder\n",
    "input_img = Input(shape=(784,))"
   ]
  },
  {
   "cell_type": "code",
   "execution_count": 35,
   "metadata": {
    "collapsed": true
   },
   "outputs": [],
   "source": [
    "# \"encoded\" is the encoded representation of the input\n",
    "encoded = Dense(encoding_dim, activation='relu')(input_img)"
   ]
  },
  {
   "cell_type": "code",
   "execution_count": 36,
   "metadata": {},
   "outputs": [],
   "source": [
    "# \"decoded\" is the lossy reconstruction of the input\n",
    "decoded = Dense(784, activation='sigmoid')(encoded)"
   ]
  },
  {
   "cell_type": "code",
   "execution_count": 37,
   "metadata": {
    "collapsed": true
   },
   "outputs": [],
   "source": [
    "# this model maps an input to its reconstruction\n",
    "autoencoder = Model(input_img, decoded)"
   ]
  },
  {
   "cell_type": "code",
   "execution_count": 38,
   "metadata": {
    "collapsed": true
   },
   "outputs": [],
   "source": [
    "# this model maps an input to its encoded representation\n",
    "encoder = Model(input_img, encoded)"
   ]
  },
  {
   "cell_type": "code",
   "execution_count": 39,
   "metadata": {
    "collapsed": true
   },
   "outputs": [],
   "source": [
    "# create a placeholder for an encoded (32-dimensional) input\n",
    "encoded_input = Input(shape=(encoding_dim,))\n",
    "# retrieve the last layer of the autoencoder model\n",
    "decoder_layer = autoencoder.layers[-1]\n",
    "# create the decoder model\n",
    "decoder = Model(encoded_input, decoder_layer(encoded_input))"
   ]
  },
  {
   "cell_type": "code",
   "execution_count": 40,
   "metadata": {
    "collapsed": true
   },
   "outputs": [],
   "source": [
    "autoencoder.compile(optimizer='adadelta', loss='binary_crossentropy')\n"
   ]
  },
  {
   "cell_type": "code",
   "execution_count": 41,
   "metadata": {},
   "outputs": [],
   "source": [
    "from keras.datasets import mnist\n",
    "import numpy as np\n",
    "(x_train, _), (x_test, _) = mnist.load_data()"
   ]
  },
  {
   "cell_type": "code",
   "execution_count": 42,
   "metadata": {},
   "outputs": [],
   "source": [
    "x_train = x_train.astype('float32') / 255.\n",
    "x_test = x_test.astype('float32') / 255."
   ]
  },
  {
   "cell_type": "code",
   "execution_count": 43,
   "metadata": {},
   "outputs": [
    {
     "name": "stdout",
     "output_type": "stream",
     "text": [
      "(60000, 784)\n",
      "(10000, 784)\n"
     ]
    }
   ],
   "source": [
    "x_train = x_train.reshape((len(x_train), np.prod(x_train.shape[1:])))\n",
    "x_test = x_test.reshape((len(x_test), np.prod(x_test.shape[1:])))\n",
    "print(x_train.shape)\n",
    "print(x_test.shape)"
   ]
  },
  {
   "cell_type": "code",
   "execution_count": 44,
   "metadata": {},
   "outputs": [
    {
     "name": "stdout",
     "output_type": "stream",
     "text": [
      "Train on 60000 samples, validate on 10000 samples\n",
      "Epoch 1/50\n",
      "60000/60000 [==============================] - 1s - loss: 0.3864 - val_loss: 0.2735\n",
      "Epoch 2/50\n",
      "60000/60000 [==============================] - 1s - loss: 0.2664 - val_loss: 0.2560\n",
      "Epoch 3/50\n",
      "60000/60000 [==============================] - 1s - loss: 0.2466 - val_loss: 0.2351\n",
      "Epoch 4/50\n",
      "60000/60000 [==============================] - 1s - loss: 0.2278 - val_loss: 0.2177\n",
      "Epoch 5/50\n",
      "60000/60000 [==============================] - 1s - loss: 0.2119 - val_loss: 0.2033\n",
      "Epoch 6/50\n",
      "60000/60000 [==============================] - 1s - loss: 0.1996 - val_loss: 0.1929\n",
      "Epoch 7/50\n",
      "60000/60000 [==============================] - 1s - loss: 0.1904 - val_loss: 0.1849\n",
      "Epoch 8/50\n",
      "60000/60000 [==============================] - 1s - loss: 0.1829 - val_loss: 0.1780\n",
      "Epoch 9/50\n",
      "60000/60000 [==============================] - 1s - loss: 0.1765 - val_loss: 0.1720\n",
      "Epoch 10/50\n",
      "60000/60000 [==============================] - 1s - loss: 0.1707 - val_loss: 0.1667\n",
      "Epoch 11/50\n",
      "60000/60000 [==============================] - 1s - loss: 0.1657 - val_loss: 0.1619\n",
      "Epoch 12/50\n",
      "60000/60000 [==============================] - 1s - loss: 0.1612 - val_loss: 0.1577\n",
      "Epoch 13/50\n",
      "60000/60000 [==============================] - 1s - loss: 0.1572 - val_loss: 0.1539\n",
      "Epoch 14/50\n",
      "60000/60000 [==============================] - 1s - loss: 0.1536 - val_loss: 0.1505\n",
      "Epoch 15/50\n",
      "60000/60000 [==============================] - 1s - loss: 0.1503 - val_loss: 0.1473\n",
      "Epoch 16/50\n",
      "60000/60000 [==============================] - 1s - loss: 0.1472 - val_loss: 0.1442\n",
      "Epoch 17/50\n",
      "60000/60000 [==============================] - 1s - loss: 0.1443 - val_loss: 0.1414\n",
      "Epoch 18/50\n",
      "60000/60000 [==============================] - 1s - loss: 0.1416 - val_loss: 0.1388\n",
      "Epoch 19/50\n",
      "60000/60000 [==============================] - 1s - loss: 0.1390 - val_loss: 0.1362\n",
      "Epoch 20/50\n",
      "60000/60000 [==============================] - 1s - loss: 0.1365 - val_loss: 0.1338\n",
      "Epoch 21/50\n",
      "60000/60000 [==============================] - 1s - loss: 0.1341 - val_loss: 0.1315\n",
      "Epoch 22/50\n",
      "60000/60000 [==============================] - 1s - loss: 0.1319 - val_loss: 0.1292\n",
      "Epoch 23/50\n",
      "60000/60000 [==============================] - 1s - loss: 0.1298 - val_loss: 0.1271\n",
      "Epoch 24/50\n",
      "60000/60000 [==============================] - 1s - loss: 0.1277 - val_loss: 0.1251\n",
      "Epoch 25/50\n",
      "60000/60000 [==============================] - 1s - loss: 0.1258 - val_loss: 0.1232\n",
      "Epoch 26/50\n",
      "60000/60000 [==============================] - 1s - loss: 0.1240 - val_loss: 0.1215\n",
      "Epoch 27/50\n",
      "60000/60000 [==============================] - 1s - loss: 0.1222 - val_loss: 0.1198\n",
      "Epoch 28/50\n",
      "60000/60000 [==============================] - 1s - loss: 0.1206 - val_loss: 0.1182\n",
      "Epoch 29/50\n",
      "60000/60000 [==============================] - 1s - loss: 0.1191 - val_loss: 0.1167\n",
      "Epoch 30/50\n",
      "60000/60000 [==============================] - 1s - loss: 0.1176 - val_loss: 0.1153\n",
      "Epoch 31/50\n",
      "60000/60000 [==============================] - 1s - loss: 0.1163 - val_loss: 0.1140\n",
      "Epoch 32/50\n",
      "60000/60000 [==============================] - 1s - loss: 0.1150 - val_loss: 0.1127\n",
      "Epoch 33/50\n",
      "60000/60000 [==============================] - 1s - loss: 0.1138 - val_loss: 0.1116\n",
      "Epoch 34/50\n",
      "60000/60000 [==============================] - 1s - loss: 0.1127 - val_loss: 0.1105\n",
      "Epoch 35/50\n",
      "60000/60000 [==============================] - 1s - loss: 0.1116 - val_loss: 0.1095\n",
      "Epoch 36/50\n",
      "60000/60000 [==============================] - 1s - loss: 0.1107 - val_loss: 0.1086\n",
      "Epoch 37/50\n",
      "60000/60000 [==============================] - 1s - loss: 0.1098 - val_loss: 0.1077\n",
      "Epoch 38/50\n",
      "60000/60000 [==============================] - 1s - loss: 0.1089 - val_loss: 0.1069\n",
      "Epoch 39/50\n",
      "60000/60000 [==============================] - 1s - loss: 0.1081 - val_loss: 0.1062\n",
      "Epoch 40/50\n",
      "60000/60000 [==============================] - 1s - loss: 0.1074 - val_loss: 0.1054\n",
      "Epoch 41/50\n",
      "60000/60000 [==============================] - 1s - loss: 0.1067 - val_loss: 0.1048\n",
      "Epoch 42/50\n",
      "60000/60000 [==============================] - 1s - loss: 0.1061 - val_loss: 0.1042\n",
      "Epoch 43/50\n",
      "60000/60000 [==============================] - 1s - loss: 0.1055 - val_loss: 0.1036\n",
      "Epoch 44/50\n",
      "60000/60000 [==============================] - 1s - loss: 0.1050 - val_loss: 0.1031\n",
      "Epoch 45/50\n",
      "60000/60000 [==============================] - 1s - loss: 0.1045 - val_loss: 0.1026\n",
      "Epoch 46/50\n",
      "60000/60000 [==============================] - 1s - loss: 0.1040 - val_loss: 0.1021\n",
      "Epoch 47/50\n",
      "60000/60000 [==============================] - 1s - loss: 0.1035 - val_loss: 0.1017\n",
      "Epoch 48/50\n",
      "60000/60000 [==============================] - 1s - loss: 0.1031 - val_loss: 0.1013\n",
      "Epoch 49/50\n",
      "60000/60000 [==============================] - 1s - loss: 0.1027 - val_loss: 0.1009\n",
      "Epoch 50/50\n",
      "60000/60000 [==============================] - 1s - loss: 0.1023 - val_loss: 0.1005\n"
     ]
    },
    {
     "data": {
      "text/plain": [
       "<keras.callbacks.History at 0x7fac7478b3c8>"
      ]
     },
     "execution_count": 44,
     "metadata": {},
     "output_type": "execute_result"
    }
   ],
   "source": [
    "autoencoder.fit(x_train, x_train,\n",
    "                epochs=50,\n",
    "                batch_size=256,\n",
    "                shuffle=True,\n",
    "                validation_data=(x_test, x_test))"
   ]
  },
  {
   "cell_type": "code",
   "execution_count": 45,
   "metadata": {
    "collapsed": true
   },
   "outputs": [],
   "source": [
    "# encode and decode some digits\n",
    "# note that we take them from the *test* set\n",
    "encoded_imgs = encoder.predict(x_test)\n",
    "decoded_imgs = decoder.predict(encoded_imgs)"
   ]
  },
  {
   "cell_type": "code",
   "execution_count": 46,
   "metadata": {},
   "outputs": [
    {
     "data": {
      "image/png": "[encoded data removed]",
      "text/plain": [
       "<matplotlib.figure.Figure at 0x7fac74676390>"
      ]
     },
     "metadata": {},
     "output_type": "display_data"
    }
   ],
   "source": [
    "# use Matplotlib (don't ask)\n",
    "import matplotlib.pyplot as plt\n",
    "\n",
    "n = 10  # how many digits we will display\n",
    "plt.figure(figsize=(20, 4))\n",
    "for i in range(n):\n",
    "    # display original\n",
    "    ax = plt.subplot(2, n, i + 1)\n",
    "    plt.imshow(x_test[i].reshape(28, 28))\n",
    "    plt.gray()\n",
    "    ax.get_xaxis().set_visible(False)\n",
    "    ax.get_yaxis().set_visible(False)\n",
    "\n",
    "    # display reconstruction\n",
    "    ax = plt.subplot(2, n, i + 1 + n)\n",
    "    plt.imshow(decoded_imgs[i].reshape(28, 28))\n",
    "    plt.gray()\n",
    "    ax.get_xaxis().set_visible(False)\n",
    "    ax.get_yaxis().set_visible(False)\n",
    "plt.show()"
   ]
  },
  {
   "cell_type": "code",
   "execution_count": null,
   "metadata": {
    "collapsed": true
   },
   "outputs": [],
   "source": []
  }
 ],
 "metadata": {
  "kernelspec": {
   "display_name": "Python 3",
   "language": "python",
   "name": "python3"
  },
  "language_info": {
   "codemirror_mode": {
    "name": "ipython",
    "version": 3
   },
   "file_extension": ".py",
   "mimetype": "text/x-python",
   "name": "python",
   "nbconvert_exporter": "python",
   "pygments_lexer": "ipython3",
   "version": "3.5.2"
  }
 },
 "nbformat": 4,
 "nbformat_minor": 2
}
