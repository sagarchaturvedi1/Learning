{
 "cells": [
  {
   "cell_type": "code",
   "execution_count": 223,
   "metadata": {
    "collapsed": true
   },
   "outputs": [],
   "source": [
    "from __future__ import division\n",
    "\n",
    "import string\n",
    "import re\n",
    "\n",
    "import pandas as pd\n",
    "import numpy as np\n",
    "\n",
    "from collections import Counter"
   ]
  },
  {
   "cell_type": "code",
   "execution_count": 224,
   "metadata": {
    "collapsed": true
   },
   "outputs": [],
   "source": [
    "def remove_punctuation(s):\n",
    "    \"\"\"see http://stackoverflow.com/questions/265960/best-way-to-\\\n",
    "    strip-punctuation-from-a-string-in-python\"\"\"\n",
    "    table = s.maketrans(\"\", \"\", string.punctuation)\n",
    "    return s.translate(table)"
   ]
  },
  {
   "cell_type": "code",
   "execution_count": 225,
   "metadata": {
    "collapsed": true
   },
   "outputs": [],
   "source": [
    "def clean(x):\n",
    "    \"\"\" Wrapper function to remove punctuation and tokenize \"\"\"\n",
    "    x = remove_punctuation(x)\n",
    "    return \" \".join(re.split(\"\\W+\", x))"
   ]
  },
  {
   "cell_type": "code",
   "execution_count": 226,
   "metadata": {
    "collapsed": false
   },
   "outputs": [],
   "source": [
    "def naive(document):\n",
    "    \"\"\" term frequency implementation of naive bayes. Takes a\n",
    "    vector and classifies it as either 'ham' or 'spam' \"\"\"\n",
    "    prob_spam = []\n",
    "    prob_ham = []\n",
    "    for word in document:\n",
    "        tf_ham = (ham_vocab[word] if word in ham_vocab.keys() else 1/word_count)\n",
    "        tf_spam = (spam_vocab[word] if word in spam_vocab.keys() else 1/word_count)\n",
    "\n",
    "        prob_spam.append(tf_spam)\n",
    "        prob_ham.append(tf_ham)\n",
    "    if np.prod(prob_ham)*prior_ham > np.prod(prob_spam)*prior_spam:\n",
    "        return \"ham\"\n",
    "    else:\n",
    "        return \"spam\""
   ]
  },
  {
   "cell_type": "code",
   "execution_count": 227,
   "metadata": {
    "collapsed": false
   },
   "outputs": [
    {
     "data": {
      "text/plain": [
       "(5572, 2)"
      ]
     },
     "execution_count": 227,
     "metadata": {},
     "output_type": "execute_result"
    }
   ],
   "source": [
    "df = pd.read_csv(\"SMSSpamCollection.csv\", sep=\"\\t\", header=None,\n",
    "                     names=[\"type\", \"text\"])\n",
    "df.shape"
   ]
  },
  {
   "cell_type": "code",
   "execution_count": 228,
   "metadata": {
    "collapsed": true
   },
   "outputs": [],
   "source": [
    "#df.text = df.text.apply(clean)\n",
    "df.text = df.text.str.lower()"
   ]
  },
  {
   "cell_type": "code",
   "execution_count": 229,
   "metadata": {
    "collapsed": false
   },
   "outputs": [
    {
     "data": {
      "text/plain": [
       "(0.8659368269921034, 0.13406317300789664)"
      ]
     },
     "execution_count": 229,
     "metadata": {},
     "output_type": "execute_result"
    }
   ],
   "source": [
    "prior_ham = len(df[df['type']=='ham'])/len(df)\n",
    "prior_spam = len(df[df['type']=='spam'])/len(df)\n",
    "prior_ham, prior_spam"
   ]
  },
  {
   "cell_type": "code",
   "execution_count": 230,
   "metadata": {
    "collapsed": false
   },
   "outputs": [],
   "source": [
    "from sklearn.model_selection import train_test_split\n",
    "train, test = train_test_split(df, test_size=.2)"
   ]
  },
  {
   "cell_type": "code",
   "execution_count": 231,
   "metadata": {
    "collapsed": false
   },
   "outputs": [
    {
     "data": {
      "text/plain": [
       "(69443, 14827, 54616)"
      ]
     },
     "execution_count": 231,
     "metadata": {},
     "output_type": "execute_result"
    }
   ],
   "source": [
    "ham_vocab = Counter(\" \".join(list(train[train['type']=='ham'].text)).split())\n",
    "spam_vocab = Counter(\" \".join(list(train[train['type']=='spam'].text)).split())\n",
    "Total_vocab = spam_vocab + ham_vocab\n",
    "spam_len = sum(spam_vocab.values())\n",
    "ham_len = sum(ham_vocab.values())  \n",
    "word_count = spam_len + ham_len\n",
    "\n",
    "spam_vocab = {k:(v+1)/word_count for k, v in spam_vocab.items()}\n",
    "ham_vocab = {k:(v+1)/word_count for k, v in ham_vocab.items()}\n",
    "\n",
    "\n",
    "word_count, spam_len, ham_len"
   ]
  },
  {
   "cell_type": "code",
   "execution_count": 232,
   "metadata": {
    "collapsed": false
   },
   "outputs": [],
   "source": [
    "pred = test[\"text\"].apply(run_bayes)"
   ]
  },
  {
   "cell_type": "code",
   "execution_count": 233,
   "metadata": {
    "collapsed": false
   },
   "outputs": [
    {
     "data": {
      "text/html": [
       "<div>\n",
       "<table border=\"1\" class=\"dataframe\">\n",
       "  <thead>\n",
       "    <tr style=\"text-align: right;\">\n",
       "      <th>type</th>\n",
       "      <th>ham</th>\n",
       "      <th>spam</th>\n",
       "    </tr>\n",
       "    <tr>\n",
       "      <th>text</th>\n",
       "      <th></th>\n",
       "      <th></th>\n",
       "    </tr>\n",
       "  </thead>\n",
       "  <tbody>\n",
       "    <tr>\n",
       "      <th>ham</th>\n",
       "      <td>983</td>\n",
       "      <td>59</td>\n",
       "    </tr>\n",
       "    <tr>\n",
       "      <th>spam</th>\n",
       "      <td>3</td>\n",
       "      <td>70</td>\n",
       "    </tr>\n",
       "  </tbody>\n",
       "</table>\n",
       "</div>"
      ],
      "text/plain": [
       "type  ham  spam\n",
       "text           \n",
       "ham   983    59\n",
       "spam    3    70"
      ]
     },
     "execution_count": 233,
     "metadata": {},
     "output_type": "execute_result"
    }
   ],
   "source": [
    "pd.crosstab(pred, test[\"type\"])"
   ]
  },
  {
   "cell_type": "code",
   "execution_count": 234,
   "metadata": {
    "collapsed": false
   },
   "outputs": [
    {
     "name": "stdout",
     "output_type": "stream",
     "text": [
      "Accuracy is: 94.44%\n"
     ]
    }
   ],
   "source": [
    "acc = sum(pred == test[\"type\"])/len(test)\n",
    "print(\"Accuracy is: %s%%\" % round(acc*100, 2))"
   ]
  },
  {
   "cell_type": "code",
   "execution_count": null,
   "metadata": {
    "collapsed": true
   },
   "outputs": [],
   "source": []
  },
  {
   "cell_type": "code",
   "execution_count": null,
   "metadata": {
    "collapsed": true
   },
   "outputs": [],
   "source": []
  }
 ],
 "metadata": {
  "kernelspec": {
   "display_name": "Python 3",
   "language": "python",
   "name": "python3"
  },
  "language_info": {
   "codemirror_mode": {
    "name": "ipython",
    "version": 3
   },
   "file_extension": ".py",
   "mimetype": "text/x-python",
   "name": "python",
   "nbconvert_exporter": "python",
   "pygments_lexer": "ipython3",
   "version": "3.6.0"
  }
 },
 "nbformat": 4,
 "nbformat_minor": 2
}
